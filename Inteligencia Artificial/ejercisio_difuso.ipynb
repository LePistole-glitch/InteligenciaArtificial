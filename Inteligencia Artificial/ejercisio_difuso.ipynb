{
 "cells": [
  {
   "cell_type": "code",
   "execution_count": 1,
   "metadata": {},
   "outputs": [],
   "source": [
    "#Librerias\n",
    "#Ejemplo e logica difusa para deterinar mediante reglas\n",
    "#de inferecia cuanta propina dar en un restaurante\n",
    "#variables de entrada son: calidad [0-10] y calidad de comida de [0-10]\n",
    "import numpy as np\n",
    "import skfuzzy as fuzz\n",
    "import matplotlib.pyplot as plt\n",
    "import sys"
   ]
  },
  {
   "cell_type": "code",
   "execution_count": 2,
   "metadata": {},
   "outputs": [],
   "source": [
    "if len(sys.argv)>2:\n",
    "    cal_comida = sys.argv[1]\n",
    "    cal_servicio = sys.argv[2]\n",
    "    cal_comida = 8\n",
    "    cal_servicio = 6\n",
    "else:\n",
    "    cal_comida = 8\n",
    "    cal_servicio = 6"
   ]
  },
  {
   "cell_type": "code",
   "execution_count": 3,
   "metadata": {},
   "outputs": [],
   "source": [
    "x_qual = np.arange(0, 11, 1)\n",
    "x_serv = np.arange(0, 11, 1)\n",
    "x_tip = np.arange(5, 26, 1)\n",
    "\n",
    "qual_lo = fuzz.trimf(x_qual, [0, 0, 5])\n",
    "qual_md = fuzz.trimf(x_qual, [0, 5, 10])\n",
    "qual_hi = fuzz.trimf(x_qual, [5, 10, 10])\n",
    "\n",
    "serv_lo = fuzz.trimf(x_serv, [0, 0, 5])\n",
    "serv_md = fuzz.trimf(x_serv, [0, 5, 10])\n",
    "serv_hi = fuzz.trimf(x_serv, [5, 10, 10])\n",
    "\n",
    "tip_lo = fuzz.trimf(x_tip, [5, 5, 13])\n",
    "tip_md = fuzz.trimf(x_tip, [5, 13, 25])\n",
    "tip_hi = fuzz.trimf(x_tip, [13, 25, 25])"
   ]
  },
  {
   "cell_type": "code",
   "execution_count": 4,
   "metadata": {},
   "outputs": [
    {
     "name": "stdout",
     "output_type": "stream",
     "text": [
      "15.859296482412063\n"
     ]
    }
   ],
   "source": [
    "qual_level_lo = fuzz.interp_membership(x_qual, qual_lo, cal_comida)\n",
    "qual_level_md = fuzz.interp_membership(x_qual, qual_md, cal_comida)\n",
    "qual_level_hi = fuzz.interp_membership(x_qual, qual_hi, cal_comida)\n",
    "\n",
    "serv_level_lo = fuzz.interp_membership(x_serv, serv_lo, cal_servicio)\n",
    "serv_level_md = fuzz.interp_membership(x_serv, serv_md, cal_servicio)\n",
    "serv_level_hi = fuzz.interp_membership(x_serv, serv_hi, cal_servicio)\n",
    "\n",
    "#Reglas de producción\n",
    "#Regla1\n",
    "active_rule1 = np.fmax(qual_level_lo, serv_level_lo)\n",
    "tip_activation_lo = np.fmin(active_rule1, tip_lo)\n",
    "#Regla2\n",
    "tip_activation_md = np.fmin(serv_level_md, tip_md)\n",
    "#Regla3\n",
    "active_rule3 = np.fmax(qual_level_hi, serv_level_hi)\n",
    "tip_activation_hi = np.fmin(active_rule3, tip_hi)\n",
    "\n",
    "\n",
    "aggregated = np.fmax(tip_activation_lo, np.fmax(tip_activation_md, tip_activation_hi))\n",
    "tip = fuzz.defuzz(x_tip, aggregated, 'centroid')\n",
    "print(tip)"
   ]
  }
 ],
 "metadata": {
  "kernelspec": {
   "display_name": "Python 3",
   "language": "python",
   "name": "python3"
  },
  "language_info": {
   "codemirror_mode": {
    "name": "ipython",
    "version": 3
   },
   "file_extension": ".py",
   "mimetype": "text/x-python",
   "name": "python",
   "nbconvert_exporter": "python",
   "pygments_lexer": "ipython3",
   "version": "3.11.6"
  }
 },
 "nbformat": 4,
 "nbformat_minor": 2
}
