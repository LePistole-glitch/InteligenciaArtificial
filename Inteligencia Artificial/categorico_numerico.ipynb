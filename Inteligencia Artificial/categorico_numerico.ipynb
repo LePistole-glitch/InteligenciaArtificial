{
 "cells": [
  {
   "cell_type": "code",
   "execution_count": 1,
   "metadata": {},
   "outputs": [
    {
     "data": {
      "text/plain": [
       "array([0, 0, 0, 0, 0, 0, 0, 0, 0, 0, 0, 0, 0, 0, 0, 0, 0, 0, 0, 0, 0, 0,\n",
       "       0, 0, 0, 0, 0, 0, 0, 0, 0, 0, 0, 0, 0, 0, 0, 0, 0, 0, 0, 0, 0, 0,\n",
       "       0, 0, 0, 0, 0, 0, 1, 1, 1, 1, 1, 1, 1, 1, 1, 1, 1, 1, 1, 1, 1, 1,\n",
       "       1, 1, 1, 1, 1, 1, 1, 1, 1, 1, 1, 1, 1, 1, 1, 1, 1, 1, 1, 1, 1, 1,\n",
       "       1, 1, 1, 1, 1, 1, 1, 1, 1, 1, 1, 1, 2, 2, 2, 2, 2, 2, 2, 2, 2, 2,\n",
       "       2, 2, 2, 2, 2, 2, 2, 2, 2, 2, 2, 2, 2, 2, 2, 2, 2, 2, 2, 2, 2, 2,\n",
       "       2, 2, 2, 2, 2, 2, 2, 2, 2, 2, 2, 2, 2, 2, 2, 2, 2, 2])"
      ]
     },
     "execution_count": 1,
     "metadata": {},
     "output_type": "execute_result"
    }
   ],
   "source": [
    "from sklearn.preprocessing import LabelEncoder\n",
    "from sklearn import datasets\n",
    "etiquetas = ['manzanas', 'banana', 'manzana', 'naranja', 'banana']\n",
    "\n",
    "#Cargar el set de datos\n",
    "iris = datasets.load_iris()\n",
    "y = iris.target\n",
    "\n",
    "y"
   ]
  },
  {
   "cell_type": "code",
   "execution_count": 2,
   "metadata": {},
   "outputs": [
    {
     "name": "stdout",
     "output_type": "stream",
     "text": [
      "Frutas:  ['manzanas', 'banana', 'manzana', 'naranja', 'banana']\n",
      "datos numericos: [2 0 1 3 0]\n"
     ]
    }
   ],
   "source": [
    "#Crear una instancia de Label Encoder\n",
    "label_encoder = LabelEncoder()\n",
    "#4.- Codifica las etiquetade la clase\n",
    "y_encoded = label_encoder.fit_transform(y)\n",
    "datos_numericos = label_encoder.fit_transform(etiquetas)\n",
    "#print las etiquetas originales con las codificaciones\n",
    "#print(\"Etiquetas originales:\", y)\n",
    "#print(\"Etiquetas codificadas:\", y_encoded)\n",
    "print(\"Frutas: \",etiquetas)\n",
    "print(\"datos numericos:\", datos_numericos)"
   ]
  }
 ],
 "metadata": {
  "kernelspec": {
   "display_name": "Python 3",
   "language": "python",
   "name": "python3"
  },
  "language_info": {
   "codemirror_mode": {
    "name": "ipython",
    "version": 3
   },
   "file_extension": ".py",
   "mimetype": "text/x-python",
   "name": "python",
   "nbconvert_exporter": "python",
   "pygments_lexer": "ipython3",
   "version": "3.11.6"
  }
 },
 "nbformat": 4,
 "nbformat_minor": 2
}
